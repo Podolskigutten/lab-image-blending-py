{
 "cells": [
  {
   "cell_type": "markdown",
   "metadata": {
    "pycharm": {
     "name": "#%% md\n"
    }
   },
   "source": [
    "# Implement image blending\n",
    "\n",
    "We will start by importing libraries and defining a couple of functions for displaying images using matplotlib."
   ]
  },
  {
   "cell_type": "code",
   "execution_count": null,
   "metadata": {
    "pycharm": {
     "name": "#%%\n"
    }
   },
   "outputs": [],
   "source": [
    "import cv2\n",
    "import matplotlib.pyplot as plt\n",
    "import numpy as np\n",
    "\n",
    "%matplotlib inline\n",
    "plt.rcParams['figure.figsize'] = [20, 10]\n",
    "\n",
    "def showResult(title, img):\n",
    "    # Colour images in OpenCV are given in BGR, but matplotlib expects RGB.\n",
    "    # We therefore need to convert the OpenCV images.\n",
    "    plt.imshow(cv2.cvtColor(img, cv2.COLOR_BGR2RGB))\n",
    "    plt.title(title)\n",
    "    plt.show()\n",
    "\n",
    "def showResultsSideBySide(title1, img1, title2, img2):\n",
    "    # Display the original and the transformed image\n",
    "    axes = plt.subplots(1, 2)[1]\n",
    "    ax1, ax2 = axes\n",
    "    ax1.set_title(title1)\n",
    "    ax2.set_title(title2)\n",
    "    ax1.imshow(cv2.cvtColor(img1, cv2.COLOR_BGR2RGB))\n",
    "    ax2.imshow(cv2.cvtColor(img2, cv2.COLOR_BGR2RGB))\n",
    "    plt.show()"
   ]
  },
  {
   "cell_type": "markdown",
   "metadata": {},
   "source": [
    "## 1. Load and convert the source images\n",
    "Now let's do some image processing!\n",
    "\n",
    "First, we need to read the two images we want to blend.\n",
    "\n",
    "  <table cellspacing=\"0\" cellpadding=\"0\"><tr>\n",
    "    <td> <img src=\"img/thumb_lion.png\" alt=\"Lion\" style=\"width: 200px;\"/> </td>\n",
    "    <td> <img src=\"img/thumb_tiger.png\" alt=\"Tiger\" style=\"width: 200px;\"/> </td>\n",
    "    <td> <img src=\"img/thumb_white_tiger.png\" alt=\"White tiger\" style=\"width: 200px;\"/> </td>\n",
    "  </tr></table>\n",
    "\n",
    "- Read two images (choose two of the images given in the `data` directory)\n",
    "  - Hint: [cv::imread(...)](https://docs.opencv.org/4.0.1/d4/da8/group__imgcodecs.html#ga288b8b3da0892bd651fce07b3bbd3a56)\n",
    "\n",
    "- Convert the images to `float32` and scale the pixel values so that they will lie in the interval [0, 1]\n",
    "  - Hint: [numpy.float32](https://numpy.org/doc/stable/reference/arrays.scalars.html?#numpy.float32)"
   ]
  },
  {
   "cell_type": "code",
   "execution_count": null,
   "metadata": {},
   "outputs": [],
   "source": [
    "# Load the images.\n",
    "img_01_fname = \"data/tiger.png\"\n",
    "img_01 = cv2.imread(img_01_fname)\n",
    "img_01 = np.float32(img_01) * (1.0/255.0)\n",
    "\n",
    "img_02_fname = \"data/white_tiger.png\"\n",
    "img_02 = cv2.imread(img_02_fname)\n",
    "img_02 = np.float32(img_02) * (1.0/255.0)\n",
    "\n",
    "# Show the loaded images.\n",
    "showResultsSideBySide(img_01_fname, img_01, img_02_fname, img_02)"
   ]
  },
  {
   "cell_type": "markdown",
   "metadata": {},
   "source": [
    "## 2. Create an image with weights for blending\n",
    "Now we need to define how the two images should be blended together.\n",
    "We will do this by constructing a weight image with weights $w(u, v) \\in [0, 1].$\n",
    "\n",
    "A weight of 1 means that the blended pixel will be equal to the corresponding pixel in image 1, while a weight of 0.5 means that the resulting pixel is an equally large mix of both images.\n",
    "\n",
    "### a) Create the weight image:\n",
    "  - The size is equal to the size of the input images\n",
    "  - It should have 3 channels given in 32-bit floating point\n",
    "  - The left half of the image should be black (pixel value 0.0 in all channels)\n",
    "  - The right half of the image should be white (pixel value 1.0 in all channels)\n",
    "\n",
    "### b) Make a ramp (a smooth gradient) in the transition between black and white\n",
    "   - Hint: [cv::blur](https://docs.opencv.org/4.5.5/d4/d86/group__imgproc__filter.html#ga8c45db9afe636703801b0b2e440fce37)\n",
    "\n",
    "   ![Weight image with ramp](img/gradient.png)"
   ]
  },
  {
   "cell_type": "code",
   "execution_count": null,
   "metadata": {
    "pycharm": {
     "name": "#%%\n"
    }
   },
   "outputs": [],
   "source": [
    "# Construct a half black, half white image.\n",
    "weights = np.zeros(img_01.shape, dtype=np.float32)\n",
    "half_image_width = int(0.5 * weights.shape[1])\n",
    "weights[:, :half_image_width] = (1., 1., 1.)\n",
    "\n",
    "# Create a ramp between the two halves.\n",
    "ramp_width = 50\n",
    "weights = cv2.blur(weights, (ramp_width+1, ramp_width+1))\n",
    "\n",
    "# Visualise the weights.\n",
    "showResult(\"weights\", weights)"
   ]
  },
  {
   "cell_type": "markdown",
   "metadata": {
    "pycharm": {
     "name": "#%% md\n"
    }
   },
   "source": [
    "## 3. Simple linear blending\n",
    "The next step is to implement functionality for simple linear blending, where the two images are mixed according to the weight image.\n",
    "\n",
    "### a) Implement linear blending of two images using the weights\n",
    "- $res = w  \\cdot img_1 + (1-w) \\cdot img_2$\n",
    "- Tip: You can solve this step using only image operations, without writing any loops.\n",
    "\n",
    "### b) Run the code and check that the result looks reasonable\n",
    "- Try changing the ramp size `ramp_width`. What happens?\n",
    "- Try making the blend as smooth and visually pleasing as possible."
   ]
  },
  {
   "cell_type": "code",
   "execution_count": null,
   "metadata": {},
   "outputs": [],
   "source": [
    "def linearBlending(img1, img2, mask):\n",
    "    return img1 * mask + img2 * (1.-mask)\n",
    "\n",
    "# Test linear blending.\n",
    "linear_blend = linearBlending(img_01, img_02, weights)\n",
    "showResult('linear_blend', linear_blend)"
   ]
  },
  {
   "cell_type": "markdown",
   "metadata": {},
   "source": [
    "## 4. Laplace blending\n",
    "To demonstrate the difference between simple linear blending, and scale-aware blending, we will now implement and test Laplace blending.\n",
    "We will even get to play around with scale pyramids!\n",
    "\n",
    "Recall from the lecture that Laplace blending performs linear blending at different stages in the laplacian pyramid for an image (at different scales):\n",
    "\n",
    "![Laplace blending](img/thumb_fig_laplace.png)\n",
    "\n",
    "First we convert the image to a laplacian pyramid, then we perform the linear blending, and finally we reconstruct the blended laplacian into the resulting blended image.\n",
    "\n",
    "### a) Construct a Gaussian pyramid\n",
    "\n",
    "![Gaussian pyramid](img/thumb_pyr_gauss.png)\n",
    "\n",
    "- Hint: Use [cv::pyrDown()](https://docs.opencv.org/4.5.5/d4/d86/group__imgproc__filter.html#gaf9bba239dfca11654cb7f50f889fc2ff)\n"
   ]
  },
  {
   "cell_type": "code",
   "execution_count": null,
   "metadata": {},
   "outputs": [],
   "source": [
    "def constructGaussianPyramid(img):\n",
    "    # Construct the pyramid starting with the original image.\n",
    "    pyr = [img]\n",
    "\n",
    "    # Add new downscaled images to the pyramid\n",
    "    # until image width is <= 16 pixels\n",
    "    while pyr[-1].shape[1] > 16:\n",
    "        pyr.append(cv2.pyrDown(pyr[-1]))\n",
    "\n",
    "    return pyr\n"
   ]
  },
  {
   "cell_type": "markdown",
   "metadata": {
    "pycharm": {
     "name": "#%% md\n"
    }
   },
   "source": [
    "### b) Construct a Laplacian pyramid\n",
    "\n",
    "![Laplacian pyramid](img/thumb_pyr_laplace.png)\n",
    "\n",
    "- Hint: Use [cv::pyrUp()](https://docs.opencv.org/4.5.5/d4/d86/group__imgproc__filter.html#gada75b59bdaaca411ed6fee10085eb784)\n"
   ]
  },
  {
   "cell_type": "code",
   "execution_count": null,
   "metadata": {
    "pycharm": {
     "name": "#%%\n"
    }
   },
   "outputs": [],
   "source": [
    "def constructLaplacianPyramid(img):\n",
    "    pyr = constructGaussianPyramid(img)\n",
    "    for i in range(len(pyr)-1):\n",
    "        pyr[i] -= cv2.pyrUp(pyr[i+1], dstsize=pyr[i].shape[0:2])\n",
    "\n",
    "    return pyr"
   ]
  },
  {
   "cell_type": "markdown",
   "metadata": {
    "pycharm": {
     "name": "#%% md\n"
    }
   },
   "source": [
    "### c) Implement function for collapsing the Laplacian pyramid\n",
    "![Collapsing the Laplacian pyramid](img/thumb_pyr_collapse.png)\n",
    "\n",
    "- Hint: Use [cv::pyrUp()](https://docs.opencv.org/4.5.5/d4/d86/group__imgproc__filter.html#gada75b59bdaaca411ed6fee10085eb784)\n"
   ]
  },
  {
   "cell_type": "code",
   "execution_count": null,
   "metadata": {},
   "outputs": [],
   "source": [
    "def collapsePyramid(pyr):\n",
    "    for i in range(len(pyr)-2, -1, -1):\n",
    "        pyr[i] += cv2.pyrUp(pyr[i+1], dstsize=pyr[i].shape[0:2])\n",
    "    \n",
    "    return pyr[0]"
   ]
  },
  {
   "cell_type": "markdown",
   "metadata": {},
   "source": [
    "### d) Implement Laplacian blending\n",
    "- Construct a Gaussian pyramid for the weights.\n",
    "- Construct Laplacian pyramids for the images.\n",
    "- Blend the images using `linearBlending()` on each pyramid level.\n",
    "- Reconstruct the blended image by collapsing the blended pyramid."
   ]
  },
  {
   "cell_type": "code",
   "execution_count": null,
   "metadata": {
    "pycharm": {
     "name": "#%%\n"
    }
   },
   "outputs": [],
   "source": [
    "def laplaceBlending(img1, img2, mask):\n",
    "    # Construct a gaussian pyramid of the mask image.\n",
    "    pyr_mask = constructGaussianPyramid(mask)\n",
    "\n",
    "    # Construct a laplacian pyramid of each of the images.\n",
    "    pyr_img1 = constructLaplacianPyramid(img1)\n",
    "    pyr_img2 = constructLaplacianPyramid(img2)\n",
    "\n",
    "    # Blend the laplacian pyramids according to the corresponding weight pyramid.\n",
    "    pyr_blend = []\n",
    "    for img1_lvl, img2_lvl, mask_lvl in zip(pyr_img1, pyr_img2, pyr_mask):\n",
    "        pyr_blend.append(\n",
    "            linearBlending(img1_lvl, img2_lvl, mask_lvl)\n",
    "        )\n",
    "\n",
    "    # Collapse the blended Laplacian pyramid.\n",
    "    return collapsePyramid(pyr_blend)"
   ]
  },
  {
   "cell_type": "markdown",
   "metadata": {
    "pycharm": {
     "name": "#%% md\n"
    }
   },
   "source": [
    "### e) Check that the results look reasonable\n",
    "- Test Laplace blending\n",
    "- Compare the results with linear blending.\n",
    "- What happens when you reduce the ramp size down to a very steep gradient?"
   ]
  },
  {
   "cell_type": "code",
   "execution_count": null,
   "metadata": {
    "pycharm": {
     "name": "#%%\n"
    }
   },
   "outputs": [],
   "source": [
    "lap_blend = laplaceBlending(img_01, img_02, weights)\n",
    "showResult('blend', lap_blend)"
   ]
  },
  {
   "cell_type": "markdown",
   "metadata": {
    "pycharm": {
     "name": "#%% md\n"
    }
   },
   "source": [
    "### f) Experiments\n",
    "Try other images\n",
    " - Capture images using the camera\n",
    " - Download images from the internet\n",
    "\n",
    "Try other weight masks\n",
    " - Circles\n",
    " - Other shapes"
   ]
  }
 ],
 "metadata": {
  "interpreter": {
   "hash": "ed256a18594ec9b0f55374f879222e6e3e500b3b0e7419e2ae8bbe849e357d3c"
  },
  "kernelspec": {
   "display_name": "Python 3 (ipykernel)",
   "language": "python",
   "name": "python3"
  },
  "language_info": {
   "codemirror_mode": {
    "name": "ipython",
    "version": 3
   },
   "file_extension": ".py",
   "mimetype": "text/x-python",
   "name": "python",
   "nbconvert_exporter": "python",
   "pygments_lexer": "ipython3",
   "version": "3.8.0"
  }
 },
 "nbformat": 4,
 "nbformat_minor": 2
}
